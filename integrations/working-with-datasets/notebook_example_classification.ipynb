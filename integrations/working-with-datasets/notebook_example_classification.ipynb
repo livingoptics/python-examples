{
 "cells": [
  {
   "cell_type": "markdown",
   "id": "37183dac",
   "metadata": {},
   "source": [
    "# Classification Notebook: Detecting Grapes and Classifying by Sugar Level Using Living Optics Export Reader\n",
    "This example aims to experiment with various machine learning models based on .lo data and perform and classification.\n",
    "\n",
    "## Goals\n",
    "- **Classification**: Distinguishing *grapes* from *non-grape* objects based on their spectral features.\n",
    "- **Clustering & Class-based Classification**: Grouping sugar levels into classes using unsupervised learning and classifying spectral data accordingly.\n",
    "\n",
    "## Steps\n",
    "- Read the exported group from data analysis tool\n",
    "- Train regressor / classifier based on divided features & labels\n",
    "- Compare model performance by visualising the results\n",
    "- Perform cross-validation check"
   ]
  },
  {
   "cell_type": "markdown",
   "id": "21f95eee",
   "metadata": {},
   "source": [
    "## 1. Import Libraries and Setup\n",
    "Import all required libraries and modules for classification and clustering."
   ]
  },
  {
   "cell_type": "code",
   "execution_count": null,
   "id": "db188864",
   "metadata": {},
   "outputs": [],
   "source": [
    "# Basic tools\n",
    "import numpy as np\n",
    "import matplotlib.pyplot as plt\n",
    "\n",
    "# Machine learning models and evaluation\n",
    "from sklearn.model_selection import train_test_split, cross_val_score\n",
    "from sklearn.ensemble import RandomForestClassifier\n",
    "from sklearn.metrics import classification_report\n",
    "from sklearn.cluster import KMeans\n",
    "\n",
    "# lo-sdk\n",
    "from lo.sdk.api.acquisition.data.coordinates import SceneToSpectralIndex\n",
    "\n",
    "# Dataset loader\n",
    "from lo_dataset_reader import DatasetReader, rle_to_mask"
   ]
  },
  {
   "cell_type": "markdown",
   "id": "79768b5d",
   "metadata": {},
   "source": [
    "## 2. Load Dataset\n",
    "Load the grape dataset which contains annotations, spectral data, and metadata such as sugar content and position."
   ]
  },
  {
   "cell_type": "code",
   "execution_count": null,
   "id": "c286d3cf",
   "metadata": {},
   "outputs": [],
   "source": [
    "# Load dataset using the custom DatasetReader class\n",
    "path = \"/path/to/Grapes-Dataset.zip\"\n",
    "reader = DatasetReader(dataset_path=path)"
   ]
  },
  {
   "cell_type": "markdown",
   "id": "c94623d7",
   "metadata": {},
   "source": [
    "## 3. Metadata Extraction: Sugar Content\n",
    "Extract sugar content and define a classification system with 4 sugar levels."
   ]
  },
  {
   "cell_type": "code",
   "execution_count": null,
   "id": "17220660",
   "metadata": {},
   "outputs": [],
   "source": [
    "sugar_contents = []\n",
    "\n",
    "for (info, scene, spectra, _), converted_spectra, annotations, *_ in reader:\n",
    "    for ann in annotations:\n",
    "        if ann['metadata'] and ann['category_name'] == 'grapes':\n",
    "            meta = {item['field']: item['value'] for item in ann['metadata']}\n",
    "            sugar_contents.append(float(meta['sugar-content']))\n",
    "\n",
    "def sugar_to_class(sugar: float) -> int:\n",
    "    \"\"\"\n",
    "    Convert sugar content to discrete class labels.\n",
    "    \"\"\"\n",
    "    if sugar < 15: return 0\n",
    "    elif sugar < 17: return 1\n",
    "    elif sugar < 19: return 2\n",
    "    else: return 3"
   ]
  },
  {
   "cell_type": "markdown",
   "id": "8d798f96",
   "metadata": {},
   "source": [
    "## 4. Helper Functions\n",
    "Utilities for converting labels and masks to proper formats."
   ]
  },
  {
   "cell_type": "code",
   "execution_count": null,
   "id": "7ab08c97",
   "metadata": {},
   "outputs": [],
   "source": [
    "def spectra_to_scene(mask, sc):\n",
    "    \"\"\"\n",
    "    Convert a binary mask and sampling coordinates into a list of spectral indexes.\n",
    "    \"\"\"\n",
    "    spectral_indexer = SceneToSpectralIndex(info.sampling_coordinates)\n",
    "    sampling = np.zeros_like(mask)\n",
    "    sampling[sc[:, 0], sc[:, 1]] = 1\n",
    "    indexes = spectral_indexer(np.argwhere((mask & sampling)))\n",
    "    return indexes\n",
    "\n",
    "def is_grape(label: str) -> int:\n",
    "    \"\"\"\n",
    "    Convert label to binary class (1 if grape, 0 otherwise).\n",
    "    \"\"\"\n",
    "    return 1 if label == 'grapes' else 0\n"
   ]
  },
  {
   "cell_type": "markdown",
   "id": "b901090c",
   "metadata": {},
   "source": [
    "## 5. Train Grape Detection Model (Binary Classification)\n",
    "Train a binary classifier to detect whether a sample represents grapes or not."
   ]
  },
  {
   "cell_type": "code",
   "execution_count": null,
   "id": "4f4b16a7",
   "metadata": {},
   "outputs": [],
   "source": [
    "X, y = [], []\n",
    "\n",
    "for (info, scene, spectra, _), annotations, *_ in reader:\n",
    "    sc = np.array(info.sampling_coordinates, dtype=int)\n",
    "    for ann in annotations:\n",
    "        mask = rle_to_mask(ann['segmentation'], scene.shape)\n",
    "        indexes = spectra_to_scene(mask, sc)\n",
    "        mean_spectrum = spectra[indexes].mean(axis=0)\n",
    "        X.append(mean_spectrum)\n",
    "        y.append(is_grape(ann['extern']['category']))\n",
    "\n",
    "X_train, X_test, y_train, y_test = train_test_split(X, y, test_size=0.2, random_state=42)\n",
    "grape_model = RandomForestClassifier()\n",
    "grape_model.fit(X_train, y_train)\n",
    "y_pred = grape_model.predict(X_test)\n",
    "print(classification_report(y_test, y_pred))"
   ]
  },
  {
   "cell_type": "markdown",
   "id": "2d96d117",
   "metadata": {},
   "source": [
    "## 6. Evaluate via Cross-Validation\n",
    "Use 5-fold cross-validation to evaluate generalization performance."
   ]
  },
  {
   "cell_type": "code",
   "execution_count": null,
   "id": "36a433bf",
   "metadata": {},
   "outputs": [],
   "source": [
    "scores = cross_val_score(grape_model, X, y, cv=5)\n",
    "print(f\"Cross-validation scores: {scores}\")\n",
    "print(f\"Mean accuracy: {scores.mean():.4f}\")"
   ]
  },
  {
   "cell_type": "markdown",
   "id": "4a5493b6",
   "metadata": {},
   "source": [
    "## 7. Cluster Sugar Content and Classify\n",
    "Use KMeans clustering on sugar values to generate pseudo-classes and evaluate a classifier's ability to distinguish between sugar levels."
   ]
  },
  {
   "cell_type": "code",
   "execution_count": null,
   "id": "01b1dc6b",
   "metadata": {},
   "outputs": [],
   "source": [
    "# Visualise distribution of sugar content\n",
    "plt.hist(sugar_contents, bins=5)\n",
    "plt.title('Distribution of Sugar Content')\n",
    "plt.xlabel('Sugar (Brix)')\n",
    "plt.ylabel('Count')\n",
    "plt.show()\n",
    "\n",
    "# Apply k-means clustering to define sugar classes\n",
    "sugar_array = np.array(sugar_contents).reshape(-1, 1)\n",
    "kmeans = KMeans(n_clusters=4, random_state=42)\n",
    "labels = kmeans.fit_predict(sugar_array)\n",
    "\n",
    "# Train classifier on clustered labels\n",
    "X_train, X_test, y_train, y_test = train_test_split(sugar_array, labels, test_size=0.2, stratify=labels, random_state=42)\n",
    "sugar_model = RandomForestClassifier()\n",
    "sugar_model.fit(X_train, y_train)\n",
    "y_pred = sugar_model.predict(X_test)\n",
    "print(classification_report(y_test, y_pred))\n",
    "\n",
    "# Cross-validation\n",
    "scores = cross_val_score(sugar_model, sugar_array, labels, cv=5)\n",
    "print(f\"Cross-validation score: {scores}\")\n",
    "print(f\"Mean accuracy: {scores.mean():.4f}\")\n"
   ]
  },
  {
   "cell_type": "markdown",
   "id": "5d75a960",
   "metadata": {},
   "source": [
    "## Summary\n",
    "- Extracted both positional and spectral features from *.lo* data\n",
    "- Successfully trained binary classifiers to detect *grapes* vs. *non-grapes*\n",
    "- Clustered sugar content and evaluated class-based classifiers\n",
    "- Visualised predictions and performance metrics in detail"
   ]
  }
 ],
 "metadata": {
  "kernelspec": {
   "display_name": "venv3.11",
   "language": "python",
   "name": "python3"
  },
  "language_info": {
   "codemirror_mode": {
    "name": "ipython",
    "version": 3
   },
   "file_extension": ".py",
   "mimetype": "text/x-python",
   "name": "python",
   "nbconvert_exporter": "python",
   "pygments_lexer": "ipython3",
   "version": "3.11.12"
  }
 },
 "nbformat": 4,
 "nbformat_minor": 5
}
