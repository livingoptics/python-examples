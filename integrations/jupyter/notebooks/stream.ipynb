{
 "cells": [
  {
   "cell_type": "markdown",
   "metadata": {},
   "source": [
    "### Overview"
   ]
  },
  {
   "cell_type": "markdown",
   "metadata": {},
   "source": [
    "![](../media/face_spoof.gif)\n",
    "\n",
    "#### Description\n",
    "Basic example of streaming from using the `LOCamera` api and rendering the `scene_frame`.\n",
    "\n",
    "#### Code summary\n",
    "- Read frame using the `LOCamera` api\n",
    "- Working with the `scene_frame`, convert it to rgb format and render it using `OpenCV`'s `imshow` method.\n",
    "\n",
    "#### LO's APIs used\n",
    "- Streaming from `LOCamera`\n",
    "- Formatting with `LORAWtoRGB8`"
   ]
  },
  {
   "cell_type": "markdown",
   "metadata": {},
   "source": [
    "### Imports"
   ]
  },
  {
   "cell_type": "code",
   "execution_count": null,
   "metadata": {
    "tags": [
     "imports"
    ]
   },
   "outputs": [],
   "source": [
    "# This file is subject to the terms and conditions defined in file\n",
    "# `COPYING.md`, which is part of this source code package.\n",
    "\n",
    "import cv2\n",
    "import imutils\n",
    "\n",
    "from lo.sdk.api.camera.camera import LOCamera\n",
    "from lo.sdk.api.acquisition.data.formats import LORAWtoRGB8"
   ]
  },
  {
   "cell_type": "markdown",
   "metadata": {},
   "source": [
    "### Render"
   ]
  },
  {
   "cell_type": "code",
   "execution_count": null,
   "metadata": {
    "tags": [
     "render"
    ]
   },
   "outputs": [],
   "source": [
    "with LOCamera() as cam:\n",
    "    for (scene_metadata, encoded_frame), (scene_metadata, scene_frame) in cam:\n",
    "        # Convert scene frame from loraw -> RGB8 -> opencv's BGR format\n",
    "        scene_frame = LORAWtoRGB8(scene_frame)\n",
    "        scene_frame = cv2.cvtColor(scene_frame, cv2.COLOR_RGB2BGR)\n",
    "\n",
    "        # You may need to flip vertically depending on the orientation of your camera setup\n",
    "        scene_frame = cv2.flip(scene_frame, 0)\n",
    "        \n",
    "        # Resize for render\n",
    "        scene_frame = imutils.resize(scene_frame, width=800)\n",
    "        \n",
    "        cv2.imshow(\"Preview\", scene_frame)\n",
    "\n",
    "        # Break on 'Esc' key\n",
    "        key = cv2.waitKey(20)\n",
    "        if key == 27:\n",
    "            break\n",
    "\n",
    "cv2.destroyAllWindows()\n"
   ]
  },
  {
   "cell_type": "markdown",
   "metadata": {
    "tags": [
     "render",
     "comments",
     "common"
    ]
   },
   "source": [
    "- Every frame of `LOCamera` outputs `(scene_metadata, encoded_frame), (scene_metadata, scene_frame)` but for the RGB scene rendering, we only need the `scene_frame`.\n",
    "- To see it in RGB color, we'll need to convert the format from `LORAW` to `RGB8`.\n",
    "- For rendering in `OpenCV`, we'll also need to convert `RGB` to `BGR`."
   ]
  },
  {
   "cell_type": "markdown",
   "metadata": {},
   "source": [
    "### Output"
   ]
  },
  {
   "cell_type": "markdown",
   "metadata": {
    "tags": [
     "output",
     "video"
    ]
   },
   "source": [
    "![](../media/face_spoof.gif)"
   ]
  }
 ],
 "metadata": {
  "kernelspec": {
   "display_name": "venv",
   "language": "python",
   "name": "python3"
  },
  "language_info": {
   "codemirror_mode": {
    "name": "ipython",
    "version": 3
   },
   "file_extension": ".py",
   "mimetype": "text/x-python",
   "name": "python",
   "nbconvert_exporter": "python",
   "pygments_lexer": "ipython3",
   "version": "3.10.12"
  }
 },
 "nbformat": 4,
 "nbformat_minor": 2
}
