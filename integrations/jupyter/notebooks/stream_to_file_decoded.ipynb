{
 "cells": [
  {
   "cell_type": "markdown",
   "metadata": {},
   "source": [
    "### Overview"
   ]
  },
  {
   "cell_type": "markdown",
   "metadata": {},
   "source": [
    "![](../media/scene_with_spectra.gif)\n",
    "\n",
    "#### Description\n",
    "We'll compare the codes to capture stream to file and to read from file from RGB vs LO Camera. In the case of LO Camera, we'll also show how to save decoded file in `lo` format and an example of rendering of decoded spectra using the `LOMPLViewer`.\n",
    "\n",
    "#### Code summary\n",
    "- Setup the decoder using LO's `SpectralDecoder` with a calibration folder.\n",
    "- After reading the frame using the `LOCamera`, we'll decode the frame using the `decoder` and save it in a `.lo` file.\n",
    "- Read the saved file using LO's `open` and render the scene and the spectra using the `LOMPLViewer` tool.\n",
    "\n",
    "#### LO's APIs used\n",
    "- Decoding with `SpectralDecoder`\n",
    "- Streaming from `LOCamera`\n",
    "- Formatting with `LORAWtoRGB8`\n",
    "- Writing & reading using LO's `open`\n",
    "- Viewing with `LOMPLViewer`"
   ]
  },
  {
   "cell_type": "markdown",
   "metadata": {},
   "source": [
    "### Imports"
   ]
  },
  {
   "cell_type": "code",
   "execution_count": null,
   "metadata": {
    "tags": [
     "imports"
    ]
   },
   "outputs": [],
   "source": [
    "# This file is subject to the terms and conditions defined in file\n",
    "# `COPYING.md`, which is part of this source code package.\n",
    "\n",
    "import os\n",
    "\n",
    "from lo.sdk.api.camera.camera import LOCamera\n",
    "from lo.sdk.api.acquisition.data.formats import LORAWtoRGB8\n",
    "from lo.sdk.api.acquisition.data.decode import SpectralDecoder\n",
    "from lo.sdk.api.acquisition.io.open import open as lo_open\n",
    "from lo.sdk.integrations.matplotlib.simple_viewer import LOMPLViewer\n",
    "from lo.sdk.helpers.path import getdatastorepath"
   ]
  },
  {
   "cell_type": "markdown",
   "metadata": {},
   "source": [
    "### Setup"
   ]
  },
  {
   "cell_type": "code",
   "execution_count": null,
   "metadata": {
    "tags": [
     "setup"
    ]
   },
   "outputs": [],
   "source": [
    "\n",
    "factory_calibration_folder_DIR = os.path.join(getdatastorepath(), \"lo\", \"share\", \"samples\", \"face-spoofing\", \"demo-calibration-face-spoofing\")\n",
    "PATH_TO_OUTPUT_FILE = os.path.join(os.getcwd(), \"..\", \"..\", \"temp\", \"stream_to_file.lo\")\n",
    "os.makedirs(os.path.dirname(PATH_TO_OUTPUT_FILE), exist_ok=True)\n",
    "\n",
    "NO_FRAMES_TO_CAPTURE = 10\n",
    "\n",
    "# Instantiate the LO's spectral decoder\n",
    "decoder = SpectralDecoder.from_calibration(factory_calibration_folder_DIR)"
   ]
  },
  {
   "cell_type": "markdown",
   "metadata": {},
   "source": [
    "- We instantiate a decoder object using the `SpectralDecoder` api with the calibration folder for your LO camera."
   ]
  },
  {
   "cell_type": "markdown",
   "metadata": {},
   "source": [
    "### Save"
   ]
  },
  {
   "cell_type": "code",
   "execution_count": null,
   "metadata": {
    "tags": [
     "save"
    ]
   },
   "outputs": [],
   "source": [
    "with LOCamera() as cam, lo_open(PATH_TO_OUTPUT_FILE, \"w\", format=\"lo\") as f:\n",
    "    for i, frame in enumerate(cam):\n",
    "        if i >= NO_FRAMES_TO_CAPTURE:\n",
    "            break\n",
    "        \n",
    "        # Decode spectra and scene\n",
    "        processed_frame = decoder(\n",
    "            frame,\n",
    "            scene_decoder=LORAWtoRGB8,\n",
    "            description=\"Description\"\n",
    "        )\n",
    "\n",
    "        # Write to output lo file\n",
    "        f.write(processed_frame)"
   ]
  },
  {
   "cell_type": "markdown",
   "metadata": {
    "tags": [
     "save",
     "comments"
    ]
   },
   "source": [
    "- We'll decode every frame from the camera using our instantiated decoder together with the scene_decoder which converts the scene from raw to RGB8 format.\n",
    "- Then, we'll write the processed_frame into the output `.lo` file using LO's IO tool."
   ]
  },
  {
   "cell_type": "markdown",
   "metadata": {},
   "source": [
    "### Render"
   ]
  },
  {
   "cell_type": "code",
   "execution_count": null,
   "metadata": {
    "tags": [
     "render"
    ]
   },
   "outputs": [],
   "source": [
    "# Get LO's image and spectra viewers\n",
    "viewer = LOMPLViewer()\n",
    "scene_view = viewer.add_scene_view(title=\"Scene view\")\n",
    "spectra_view = viewer.add_spectra_view(title=\"Sample spectra\")\n",
    "\n",
    "with lo_open(PATH_TO_OUTPUT_FILE, \"r\") as f:\n",
    "    for (metadata, scene, spectra) in f:\n",
    "        # Add scene to the viewer\n",
    "        scene_view.update(scene)\n",
    "        # Add some sample spectra to the viewer\n",
    "        spectra_view.update(\n",
    "            spectra=spectra[::500, :],\n",
    "            wavelengths=metadata.wavelengths\n",
    "        )\n",
    "\n",
    "        # Render the viewer\n",
    "        viewer.render()"
   ]
  },
  {
   "cell_type": "markdown",
   "metadata": {
    "tags": [
     "render",
     "comments"
    ]
   },
   "source": [
    "- We'll use a viewer tool `LOMPLViewer` to render the scene and spectra.\n",
    "- Since the file is a decoded `.lo` file, we don't need to decode spectra.\n",
    "- We'll sample and render every 500 spectra from scene for a simple demo."
   ]
  },
  {
   "cell_type": "markdown",
   "metadata": {},
   "source": [
    "### Output"
   ]
  },
  {
   "cell_type": "markdown",
   "metadata": {
    "tags": [
     "output",
     "video"
    ]
   },
   "source": [
    "![](../media/scene_with_spectra.gif)"
   ]
  },
  {
   "cell_type": "markdown",
   "metadata": {
    "tags": [
     "output",
     "comments"
    ]
   },
   "source": [
    "This renders a scene view on the left and some sample spectra from the scene on the right."
   ]
  }
 ],
 "metadata": {
  "kernelspec": {
   "display_name": "venv",
   "language": "python",
   "name": "python3"
  },
  "language_info": {
   "codemirror_mode": {
    "name": "ipython",
    "version": 3
   },
   "file_extension": ".py",
   "mimetype": "text/x-python",
   "name": "python",
   "nbconvert_exporter": "python",
   "pygments_lexer": "ipython3",
   "version": "3.10.12"
  }
 },
 "nbformat": 4,
 "nbformat_minor": 2
}
