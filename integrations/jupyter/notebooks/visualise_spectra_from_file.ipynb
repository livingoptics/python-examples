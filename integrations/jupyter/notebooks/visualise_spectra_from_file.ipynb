{
 "cells": [
  {
   "cell_type": "markdown",
   "metadata": {},
   "source": [
    "### Overview"
   ]
  },
  {
   "cell_type": "markdown",
   "metadata": {},
   "source": [
    "![](../media/scene_with_spectra.gif)\n",
    "\n",
    "#### Description\n",
    "We will open the the `.lo` file and show rendering of decoded spectra using the `LOMPLViewer`.\n",
    "\n",
    "#### Code summary\n",
    "- Set the file path to the `.lo` file\n",
    "- Read the saved file using the Living Optics `open` call and render the scene and the spectra using the `LOMPLViewer` tool.\n",
    "\n",
    "#### Living Optics python APIs used\n",
    "- Writing & reading using LO's `open`\n",
    "- Viewing with `LOMPLViewer`"
   ]
  },
  {
   "cell_type": "markdown",
   "metadata": {},
   "source": [
    "### Imports"
   ]
  },
  {
   "cell_type": "code",
   "execution_count": null,
   "metadata": {
    "tags": [
     "imports"
    ]
   },
   "outputs": [],
   "source": [
    "# This file is subject to the terms and conditions defined in file\n",
    "# `COPYING.md`, which is part of this source code package.\n",
    "\n",
    "import os\n",
    "\n",
    "from lo.sdk.api.acquisition.io.open import open as lo_open\n",
    "from lo.sdk.integrations.matplotlib.simple_viewer import LOMPLViewer"
   ]
  },
  {
   "cell_type": "markdown",
   "metadata": {},
   "source": [
    "### Setup"
   ]
  },
  {
   "cell_type": "code",
   "execution_count": null,
   "metadata": {
    "tags": [
     "setup"
    ]
   },
   "outputs": [],
   "source": [
    "\n",
    "PATH_TO_LO_FILE = \"/datastore/lo/share/samples_v2/face_spoofing/face_spoofing.lo\""
   ]
  },
  {
   "cell_type": "markdown",
   "metadata": {},
   "source": [
    "### Save"
   ]
  },
  {
   "cell_type": "code",
   "execution_count": null,
   "metadata": {
    "tags": [
     "render"
    ]
   },
   "outputs": [],
   "source": [
    "# Get image and spectra viewers\n",
    "viewer = LOMPLViewer()\n",
    "scene_view = viewer.add_scene_view(title=\"Scene view\")\n",
    "spectra_view = viewer.add_spectra_view(title=\"Sample spectra\")\n",
    "\n",
    "with lo_open(PATH_TO_LO_FILE, \"r\") as f:\n",
    "    for (metadata, scene, spectra) in f:\n",
    "        # Add scene to the viewer\n",
    "        scene_view.update(scene)\n",
    "        # Add some sample spectra to the viewer\n",
    "        spectra_view.update(\n",
    "            spectra=spectra[::500, :],\n",
    "            wavelengths=metadata.wavelengths\n",
    "        )\n",
    "\n",
    "        # Render the viewer\n",
    "        viewer.render()"
   ]
  },
  {
   "cell_type": "markdown",
   "metadata": {
    "tags": [
     "render",
     "comments"
    ]
   },
   "source": [
    "- We'll use a viewer tool `LOMPLViewer` to render the scene and spectra.\n",
    "- Since the file is a decoded `.lo` file, we don't need to decode spectra.\n",
    "- We'll sample and render every 500 spectra from scene for a simple demo."
   ]
  },
  {
   "cell_type": "markdown",
   "metadata": {},
   "source": [
    "### Output"
   ]
  },
  {
   "cell_type": "markdown",
   "metadata": {
    "tags": [
     "output",
     "video"
    ]
   },
   "source": [
    "![](../media/scene_with_spectra.gif)"
   ]
  },
  {
   "cell_type": "markdown",
   "metadata": {
    "tags": [
     "output",
     "comments"
    ]
   },
   "source": [
    "This renders a scene view on the left and some sample spectra from the scene on the right."
   ]
  }
 ],
 "metadata": {
  "kernelspec": {
   "display_name": "venv",
   "language": "python",
   "name": "python3"
  },
  "language_info": {
   "codemirror_mode": {
    "name": "ipython",
    "version": 3
   },
   "file_extension": ".py",
   "mimetype": "text/x-python",
   "name": "python",
   "nbconvert_exporter": "python",
   "pygments_lexer": "ipython3",
   "version": "3.10.12"
  }
 },
 "nbformat": 4,
 "nbformat_minor": 2
}
